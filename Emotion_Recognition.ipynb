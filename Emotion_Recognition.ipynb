{
  "nbformat": 4,
  "nbformat_minor": 0,
  "metadata": {
    "colab": {
      "name": "emotion_detection.ipynb",
      "version": "0.3.2",
      "provenance": [],
      "collapsed_sections": []
    },
    "kernelspec": {
      "name": "python3",
      "display_name": "Python 3"
    },
    "accelerator": "GPU"
  },
  "cells": [
    {
      "cell_type": "code",
      "metadata": {
        "id": "3UGaHvBraelk",
        "colab_type": "code",
        "outputId": "0187d86c-603d-4634-b8e9-10a102567510",
        "colab": {
          "base_uri": "https://localhost:8080/",
          "height": 34
        }
      },
      "source": [
        "# Load the Drive helper and mount\n",
        "from google.colab import drive\n",
        "\n",
        "# This will prompt for authorization.\n",
        "drive.mount('/content/drive', force_remount=True)"
      ],
      "execution_count": 0,
      "outputs": [
        {
          "output_type": "stream",
          "text": [
            "Mounted at /content/drive\n"
          ],
          "name": "stdout"
        }
      ]
    },
    {
      "cell_type": "code",
      "metadata": {
        "id": "eYmF79t-d9x-",
        "colab_type": "code",
        "colab": {}
      },
      "source": [
        "## Imports\n",
        "import os\n",
        "import cv2\n",
        "from google.colab.patches import cv2_imshow\n",
        "import imutils\n",
        "import dlib\n",
        "from imutils.face_utils import FaceAligner\n",
        "import numpy as np\n",
        "from sklearn.model_selection import train_test_split\n",
        "import matplotlib.pyplot as plt"
      ],
      "execution_count": 0,
      "outputs": []
    },
    {
      "cell_type": "code",
      "metadata": {
        "id": "eqO_NhOzdqmW",
        "colab_type": "code",
        "colab": {}
      },
      "source": [
        "dir_path = 'drive/My Drive/ML/'"
      ],
      "execution_count": 0,
      "outputs": []
    },
    {
      "cell_type": "markdown",
      "metadata": {
        "id": "fSKpnOjUuiaY",
        "colab_type": "text"
      },
      "source": [
        "# DATA AUGMENTATION SCRIPT"
      ]
    },
    {
      "cell_type": "code",
      "metadata": {
        "id": "hDIeGiY4ugfs",
        "colab_type": "code",
        "outputId": "a8d35080-b0f8-4952-e5be-98710beaad5c",
        "colab": {
          "base_uri": "https://localhost:8080/",
          "height": 54
        }
      },
      "source": [
        "'''\n",
        "import tensorflow as tf\n",
        "\n",
        "face_data_path = dir_path + \"faces/\"\n",
        "tf.enable_eager_execution()\n",
        "\n",
        "cnt = 0\n",
        "for f in os.listdir(face_data_path):\n",
        "    img_raw = tf.read_file(face_data_path+f)\n",
        "    try:\n",
        "        img_tensor = tf.image.decode_png(img_raw)\n",
        "    except:\n",
        "        continue\n",
        "    print(f)\n",
        "##    fliplr = tf.image.flip_left_right(img_tensor)\n",
        "##    flipud = tf.image.flip_up_down(img_tensor)\n",
        "##    rotl = tf.contrib.image.rotate(img_tensor, angles=3.1415/9)\n",
        "##    rotr = tf.contrib.image.rotate(img_tensor, angles=-3.1415/9)\n",
        "##    fliplr_raw = tf.image.encode_png(fliplr)\n",
        "##    flipud_raw = tf.image.encode_png(flipud)\n",
        "    noise = tf.random_normal(shape=tf.shape(img_tensor), mean=0.0, stddev=1.0)\n",
        "    noise_img = tf.add(img_tensor, tf.cast(noise,dtype=tf.uint8))\n",
        "##    rotl_raw = tf.image.encode_png(rotl)\n",
        "##    rotr_raw = tf.image.encode_png(rotr)\n",
        "    noise_raw = tf.image.encode_png(noise_img)\n",
        "    \n",
        "##    tf.write_file(face_data_path+f.split(\".\")[0]+\"_fliplr.png\", fliplr_raw)\n",
        "##    tf.write_file(face_data_path+f.split(\".\")[0]+\"_flipud.png\", flipud_raw)\n",
        "##    tf.write_file(face_data_path+f.split(\".\")[0]+\"_rotl.png\", rotl_raw)\n",
        "##    tf.write_file(face_data_path+f.split(\".\")[0]+\"_rotr.png\", rotr_raw)\n",
        "    tf.write_file(face_data_path+f.split(\".\")[0]+\"_noise.png\", noise_raw)\n",
        "\n",
        "    cnt += 1\n",
        "print(cnt)\n",
        "'''"
      ],
      "execution_count": 0,
      "outputs": [
        {
          "output_type": "execute_result",
          "data": {
            "text/plain": [
              "'\\nimport tensorflow as tf\\n\\nface_data_path = dir_path + \"faces/\"\\ntf.enable_eager_execution()\\n\\ncnt = 0\\nfor f in os.listdir(face_data_path):\\n    img_raw = tf.read_file(face_data_path+f)\\n    try:\\n        img_tensor = tf.image.decode_png(img_raw)\\n    except:\\n        continue\\n    print(f)\\n##    fliplr = tf.image.flip_left_right(img_tensor)\\n##    flipud = tf.image.flip_up_down(img_tensor)\\n##    rotl = tf.contrib.image.rotate(img_tensor, angles=3.1415/9)\\n##    rotr = tf.contrib.image.rotate(img_tensor, angles=-3.1415/9)\\n##    fliplr_raw = tf.image.encode_png(fliplr)\\n##    flipud_raw = tf.image.encode_png(flipud)\\n    noise = tf.random_normal(shape=tf.shape(img_tensor), mean=0.0, stddev=1.0)\\n    noise_img = tf.add(img_tensor, tf.cast(noise,dtype=tf.uint8))\\n##    rotl_raw = tf.image.encode_png(rotl)\\n##    rotr_raw = tf.image.encode_png(rotr)\\n    noise_raw = tf.image.encode_png(noise_img)\\n    \\n##    tf.write_file(face_data_path+f.split(\".\")[0]+\"_fliplr.png\", fliplr_raw)\\n##    tf.write_file(face_data_path+f.split(\".\")[0]+\"_flipud.png\", flipud_raw)\\n##    tf.write_file(face_data_path+f.split(\".\")[0]+\"_rotl.png\", rotl_raw)\\n##    tf.write_file(face_data_path+f.split(\".\")[0]+\"_rotr.png\", rotr_raw)\\n    tf.write_file(face_data_path+f.split(\".\")[0]+\"_noise.png\", noise_raw)\\n\\n    cnt += 1\\nprint(cnt)\\n'"
            ]
          },
          "metadata": {
            "tags": []
          },
          "execution_count": 4
        }
      ]
    },
    {
      "cell_type": "markdown",
      "metadata": {
        "id": "ukZcIOpTWlMr",
        "colab_type": "text"
      },
      "source": [
        "# Face Detection Functions"
      ]
    },
    {
      "cell_type": "code",
      "metadata": {
        "id": "y3oAGq3Q1o_a",
        "colab_type": "code",
        "colab": {}
      },
      "source": [
        "proto_path = dir_path + 'deploy.prototxt.txt'\n",
        "model_path = dir_path + 'res10_300x300_ssd_iter_140000.caffemodel'\n",
        "predictor_path = dir_path + 'shape_predictor_68_face_landmarks.dat'\n",
        "\n",
        "predictor = dlib.shape_predictor(predictor_path)\n",
        "net = cv2.dnn.readNetFromCaffe(proto_path, model_path)\n",
        "detector = dlib.get_frontal_face_detector()\n",
        "fa = FaceAligner(predictor, desiredFaceWidth=227)"
      ],
      "execution_count": 0,
      "outputs": []
    },
    {
      "cell_type": "code",
      "metadata": {
        "id": "I7yxPrcO6P_N",
        "colab_type": "code",
        "colab": {}
      },
      "source": [
        "def detect_face_dl(image):\n",
        "    (h, w) = image.shape[:2]\n",
        "    blob = cv2.dnn.blobFromImage(cv2.resize(image, (300, 300)), 1.0, (300, 300), (104.0, 177.0, 123.0))\n",
        "    net.setInput(blob)\n",
        "    detections = net.forward()\n",
        "    gray = cv2.cvtColor(image, cv2.COLOR_BGR2GRAY)\n",
        "    \n",
        "    for i in range(0, detections.shape[2]):\n",
        "        confidence = detections[0, 0, i, 2]\n",
        "        if confidence > 0:\n",
        "            box = detections[0, 0, i, 3:7] * np.array([w, h, w, h])\n",
        "            (start_x, start_y, end_x, end_y) = box.astype(\"int\")\n",
        "            y = (start_y - 10) if (start_y - 10) > 10 else (start_y + 10)\n",
        "            # cv2.rectangle(image, (start_x, start_y), (end_x, end_y), (0, 0, 255), 2)\n",
        "            rect = dlib.rectangle(left=int(start_x), top=int(start_y), right=int(end_x), bottom=int(end_y))\n",
        "            image_centered = fa.align(image, gray, rect)\n",
        "            \n",
        "            return image_centered"
      ],
      "execution_count": 0,
      "outputs": []
    },
    {
      "cell_type": "code",
      "metadata": {
        "id": "Ib0PDgKv1qOC",
        "colab_type": "code",
        "colab": {}
      },
      "source": [
        "def detect_face_dlib(image, gray, rects):\n",
        "    for (i, rect) in enumerate(rects):\n",
        "        image_centered = fa.align(image, gray, rect)\n",
        "        return image_centered"
      ],
      "execution_count": 0,
      "outputs": []
    },
    {
      "cell_type": "code",
      "metadata": {
        "id": "UJEZRu_p2IyE",
        "colab_type": "code",
        "colab": {}
      },
      "source": [
        "def get_face(image):\n",
        "  image_low = imutils.resize(image, width=800)\n",
        "  gray = cv2.cvtColor(image_low, cv2.COLOR_BGR2GRAY)\n",
        "  rects = detector(gray, 1)\n",
        "  if len(rects) > 0:\n",
        "    face = detect_face_dlib(image_low, gray, rects)\n",
        "  else:\n",
        "    face = detect_face_dl(image)\n",
        "  return face"
      ],
      "execution_count": 0,
      "outputs": []
    },
    {
      "cell_type": "markdown",
      "metadata": {
        "id": "Q_IeoPJzWyL4",
        "colab_type": "text"
      },
      "source": [
        "## Creating Face Dataset"
      ]
    },
    {
      "cell_type": "code",
      "metadata": {
        "id": "hK_BGOq044Pw",
        "colab_type": "code",
        "colab": {}
      },
      "source": [
        "'''\n",
        "data_path = dir_path + 'Dataset_/'\n",
        "faces_path = dir_path + 'faces/'\n",
        "\n",
        "for filename in os.listdir(data_path):\n",
        "  img_path = data_path + filename\n",
        "  image = cv2.imread(img_path)\n",
        "  print(filename)\n",
        "  face = get_face(image)\n",
        "  cv2.imwrite(faces_path+filename, face)\n",
        "'''"
      ],
      "execution_count": 0,
      "outputs": []
    },
    {
      "cell_type": "markdown",
      "metadata": {
        "id": "nHklZVXJW-Nt",
        "colab_type": "text"
      },
      "source": [
        "# Loading Dataset\n",
        "## Preparing X and Y"
      ]
    },
    {
      "cell_type": "code",
      "metadata": {
        "id": "CkIz1PrgJ40g",
        "colab_type": "code",
        "colab": {}
      },
      "source": [
        "emotion_dict = {\"neutral\":0, \"happy\":1, \"sad\":2, \"disgust\":3, \"anger\":4, \"fear\":5, \"surprise\":6, 'angry':4, 'surprised':6}\n",
        "faces_path = dir_path + 'faces/'\n",
        "images = []\n",
        "indices = []\n",
        "for filename in os.listdir(faces_path):\n",
        "  img = cv2.imread(faces_path+filename)\n",
        "  img = cv2.cvtColor(img, cv2.COLOR_BGR2GRAY)\n",
        "  img = cv2.resize(img, (48, 48))\n",
        "  images.append(img)\n",
        "  emotion = filename.lower().split(\"_\")[2]\n",
        "  oh = np.zeros(7)\n",
        "  oh[emotion_dict[emotion]] = 1\n",
        "  indices.append(oh)\n",
        "  print(\"{} => {} => {}\".format(filename, emotion, oh))\n",
        "  \n",
        "X = np.array(images)\n",
        "Y = np.array(indices)\n",
        "print(\"X shape : \" ,X.shape)\n",
        "print(\"Y shape : \", Y.shape)"
      ],
      "execution_count": 0,
      "outputs": []
    },
    {
      "cell_type": "code",
      "metadata": {
        "id": "lXiOnPL6oVGS",
        "colab_type": "code",
        "outputId": "c8b8a27a-b183-40f7-d487-0030f166507e",
        "colab": {
          "base_uri": "https://localhost:8080/",
          "height": 51
        }
      },
      "source": [
        "np.save('emotion_X', X)\n",
        "np.save('emotion_Y',Y)\n",
        "\n",
        "print(X.shape)\n",
        "print(Y.shape)"
      ],
      "execution_count": 0,
      "outputs": [
        {
          "output_type": "stream",
          "text": [
            "(5160, 48, 48)\n",
            "(5160, 7)\n"
          ],
          "name": "stdout"
        }
      ]
    },
    {
      "cell_type": "code",
      "metadata": {
        "id": "1J6u520Zok5Q",
        "colab_type": "code",
        "outputId": "a4f79e2b-dd66-4c84-aa18-de9bac49b976",
        "colab": {
          "base_uri": "https://localhost:8080/",
          "height": 51
        }
      },
      "source": [
        "X = np.load(dir_path+'emotion_X.npy')\n",
        "Y = np.load(dir_path+'emotion_Y.npy')\n",
        "\n",
        "print(\"X shape = \", X.shape)\n",
        "print(\"Y shape = \", Y.shape)"
      ],
      "execution_count": 0,
      "outputs": [
        {
          "output_type": "stream",
          "text": [
            "X shape =  (5160, 48, 48)\n",
            "Y shape =  (5160, 7)\n"
          ],
          "name": "stdout"
        }
      ]
    },
    {
      "cell_type": "markdown",
      "metadata": {
        "id": "9pBAwD5MXNul",
        "colab_type": "text"
      },
      "source": [
        "# Train Test Split"
      ]
    },
    {
      "cell_type": "code",
      "metadata": {
        "id": "597xC5-HVF_T",
        "colab_type": "code",
        "outputId": "9a3f6329-381c-45d2-d717-b2314233c37d",
        "colab": {
          "base_uri": "https://localhost:8080/",
          "height": 85
        }
      },
      "source": [
        "X_train, X_test, Y_train, Y_test =  train_test_split(X, Y, test_size=0.20, random_state=42)\n",
        "\n",
        "X_train = X_train.reshape(X_train.shape[0], 48, 48, 1)\n",
        "X_test = X_test.reshape(X_test.shape[0], 48, 48, 1)\n",
        "\n",
        "X_train = X_train.astype('float32')\n",
        "X_test = X_test.astype('float32')\n",
        "\n",
        "print(\"X_train : \",X_train.shape)\n",
        "print(\"X_test : \",X_test.shape)\n",
        "print(\"Y_train : \", Y_train.shape)\n",
        "print(\"Y_test : \",Y_test.shape)"
      ],
      "execution_count": 0,
      "outputs": [
        {
          "output_type": "stream",
          "text": [
            "X_train :  (4128, 48, 48, 1)\n",
            "X_test :  (1032, 48, 48, 1)\n",
            "Y_train :  (4128, 7)\n",
            "Y_test :  (1032, 7)\n"
          ],
          "name": "stdout"
        }
      ]
    },
    {
      "cell_type": "markdown",
      "metadata": {
        "id": "a49h9AybXUcQ",
        "colab_type": "text"
      },
      "source": [
        "# Preparing CNN Model"
      ]
    },
    {
      "cell_type": "code",
      "metadata": {
        "id": "-tIrkT17hFyp",
        "colab_type": "code",
        "outputId": "fd06cbae-ed66-42d3-f4b0-0cdae5852541",
        "colab": {
          "base_uri": "https://localhost:8080/",
          "height": 34
        }
      },
      "source": [
        "from keras.models import Sequential\n",
        "from keras.layers import Conv2D, MaxPooling2D, Flatten, Dropout, Dense, BatchNormalization, Activation\n",
        "from keras import regularizers"
      ],
      "execution_count": 0,
      "outputs": [
        {
          "output_type": "stream",
          "text": [
            "Using TensorFlow backend.\n"
          ],
          "name": "stderr"
        }
      ]
    },
    {
      "cell_type": "code",
      "metadata": {
        "id": "CpV1Yknfh4rg",
        "colab_type": "code",
        "outputId": "880ca242-3a99-4688-c4ec-82b61c2f6e41",
        "colab": {
          "base_uri": "https://localhost:8080/",
          "height": 139
        }
      },
      "source": [
        "model = Sequential()\n",
        "\n",
        "model.add(Conv2D(64, (3, 3), input_shape=(48,48,1), padding='same'))\n",
        "model.add(BatchNormalization(axis=-1))\n",
        "model.add(Activation('relu'))\n",
        "model.add(MaxPooling2D(pool_size=(2,2), strides=(2,2)))\n",
        "model.add(Dropout(rate=0.2))\n",
        "\n",
        "model.add(Conv2D(128, (5, 5), padding='same'))\n",
        "model.add(BatchNormalization(axis=-1))\n",
        "model.add(Dropout(rate=0.2))\n",
        "\n",
        "model.add(Conv2D(512, (3, 3), strides=(2,2)))\n",
        "model.add(BatchNormalization(axis=-1))\n",
        "model.add(Dropout(rate=0.2))\n",
        "\n",
        "\n",
        "model.add(Flatten())\n",
        "\n",
        "model.add(Dense(units = 256, kernel_regularizer=regularizers.l2(0.0001)))\n",
        "model.add(BatchNormalization(axis=-1))\n",
        "model.add(Dropout(rate=0.4))\n",
        "model.add(Activation('relu'))\n",
        "\n",
        "model.add(Dense(units = 512, kernel_regularizer=regularizers.l2(0.0001)))\n",
        "model.add(BatchNormalization(axis=-1))\n",
        "model.add(Dropout(rate=0.4))\n",
        "model.add(Activation('relu'))\n",
        "\n",
        "model.add(Dense(units = 7, activation = 'softmax'))\n",
        "\n",
        "model.compile(optimizer = 'adam', loss = 'categorical_crossentropy', metrics = ['accuracy'])"
      ],
      "execution_count": 0,
      "outputs": [
        {
          "output_type": "stream",
          "text": [
            "WARNING:tensorflow:From /usr/local/lib/python3.6/dist-packages/tensorflow/python/framework/op_def_library.py:263: colocate_with (from tensorflow.python.framework.ops) is deprecated and will be removed in a future version.\n",
            "Instructions for updating:\n",
            "Colocations handled automatically by placer.\n",
            "WARNING:tensorflow:From /usr/local/lib/python3.6/dist-packages/keras/backend/tensorflow_backend.py:3445: calling dropout (from tensorflow.python.ops.nn_ops) with keep_prob is deprecated and will be removed in a future version.\n",
            "Instructions for updating:\n",
            "Please use `rate` instead of `keep_prob`. Rate should be set to `rate = 1 - keep_prob`.\n"
          ],
          "name": "stdout"
        }
      ]
    },
    {
      "cell_type": "code",
      "metadata": {
        "id": "hAPzfyEKnPnV",
        "colab_type": "code",
        "outputId": "d7f96005-3b34-40f9-f8df-f28cc980203b",
        "colab": {
          "base_uri": "https://localhost:8080/",
          "height": 867
        }
      },
      "source": [
        "print(model.summary())"
      ],
      "execution_count": 0,
      "outputs": [
        {
          "output_type": "stream",
          "text": [
            "_________________________________________________________________\n",
            "Layer (type)                 Output Shape              Param #   \n",
            "=================================================================\n",
            "conv2d_1 (Conv2D)            (None, 48, 48, 64)        640       \n",
            "_________________________________________________________________\n",
            "batch_normalization_1 (Batch (None, 48, 48, 64)        256       \n",
            "_________________________________________________________________\n",
            "activation_1 (Activation)    (None, 48, 48, 64)        0         \n",
            "_________________________________________________________________\n",
            "max_pooling2d_1 (MaxPooling2 (None, 24, 24, 64)        0         \n",
            "_________________________________________________________________\n",
            "dropout_1 (Dropout)          (None, 24, 24, 64)        0         \n",
            "_________________________________________________________________\n",
            "conv2d_2 (Conv2D)            (None, 24, 24, 128)       204928    \n",
            "_________________________________________________________________\n",
            "batch_normalization_2 (Batch (None, 24, 24, 128)       512       \n",
            "_________________________________________________________________\n",
            "dropout_2 (Dropout)          (None, 24, 24, 128)       0         \n",
            "_________________________________________________________________\n",
            "conv2d_3 (Conv2D)            (None, 11, 11, 512)       590336    \n",
            "_________________________________________________________________\n",
            "batch_normalization_3 (Batch (None, 11, 11, 512)       2048      \n",
            "_________________________________________________________________\n",
            "dropout_3 (Dropout)          (None, 11, 11, 512)       0         \n",
            "_________________________________________________________________\n",
            "flatten_1 (Flatten)          (None, 61952)             0         \n",
            "_________________________________________________________________\n",
            "dense_1 (Dense)              (None, 256)               15859968  \n",
            "_________________________________________________________________\n",
            "batch_normalization_4 (Batch (None, 256)               1024      \n",
            "_________________________________________________________________\n",
            "dropout_4 (Dropout)          (None, 256)               0         \n",
            "_________________________________________________________________\n",
            "activation_2 (Activation)    (None, 256)               0         \n",
            "_________________________________________________________________\n",
            "dense_2 (Dense)              (None, 512)               131584    \n",
            "_________________________________________________________________\n",
            "batch_normalization_5 (Batch (None, 512)               2048      \n",
            "_________________________________________________________________\n",
            "dropout_5 (Dropout)          (None, 512)               0         \n",
            "_________________________________________________________________\n",
            "activation_3 (Activation)    (None, 512)               0         \n",
            "_________________________________________________________________\n",
            "dense_3 (Dense)              (None, 7)                 3591      \n",
            "=================================================================\n",
            "Total params: 16,796,935\n",
            "Trainable params: 16,793,991\n",
            "Non-trainable params: 2,944\n",
            "_________________________________________________________________\n",
            "None\n"
          ],
          "name": "stdout"
        }
      ]
    },
    {
      "cell_type": "code",
      "metadata": {
        "id": "UXoSn9ISWbPY",
        "colab_type": "code",
        "colab": {}
      },
      "source": [
        "'''\n",
        "from keras.preprocessing.image import ImageDataGenerator\n",
        "\n",
        "train_datagen = ImageDataGenerator(\n",
        "    #featurewise_center=True,\n",
        "    #featurewise_std_normalization=True,\n",
        "    rescale = 1/255.0,\n",
        "    rotation_range=15,\n",
        "    horizontal_flip=True,\n",
        "    vertical_flip=True)\n",
        "\n",
        "train_datagen.fit(X_train, augment=True)\n",
        "\n",
        "test_datagen = ImageDataGenerator(rescale = 1/255.0)\n",
        "test_datagen.fit(X_test)\n",
        "'''"
      ],
      "execution_count": 0,
      "outputs": []
    },
    {
      "cell_type": "code",
      "metadata": {
        "id": "8nQTuD2sX3ae",
        "colab_type": "code",
        "colab": {}
      },
      "source": [
        "'''\n",
        "model.fit_generator(train_datagen.flow(X_train, Y_train, batch_size=64),\n",
        "          steps_per_epoch=  X_train.shape[0]//64,\n",
        "          epochs=100,\n",
        "          verbose=1)\n",
        "'''"
      ],
      "execution_count": 0,
      "outputs": []
    },
    {
      "cell_type": "markdown",
      "metadata": {
        "id": "J-_XkasJyPs-",
        "colab_type": "text"
      },
      "source": [
        "# Training"
      ]
    },
    {
      "cell_type": "code",
      "metadata": {
        "id": "wAjAbbbQYh_0",
        "colab_type": "code",
        "outputId": "e639a7c5-ec57-4186-fff6-4401181f9dee",
        "colab": {
          "base_uri": "https://localhost:8080/",
          "height": 2128
        }
      },
      "source": [
        "history = model.fit(X_train, Y_train, batch_size=64, epochs=60)"
      ],
      "execution_count": 0,
      "outputs": [
        {
          "output_type": "stream",
          "text": [
            "WARNING:tensorflow:From /usr/local/lib/python3.6/dist-packages/tensorflow/python/ops/math_ops.py:3066: to_int32 (from tensorflow.python.ops.math_ops) is deprecated and will be removed in a future version.\n",
            "Instructions for updating:\n",
            "Use tf.cast instead.\n",
            "Epoch 1/60\n",
            "4128/4128 [==============================] - 9s 2ms/step - loss: 2.4876 - acc: 0.1507\n",
            "Epoch 2/60\n",
            "4128/4128 [==============================] - 3s 737us/step - loss: 2.2499 - acc: 0.2071\n",
            "Epoch 3/60\n",
            "4128/4128 [==============================] - 3s 737us/step - loss: 2.0948 - acc: 0.2679\n",
            "Epoch 4/60\n",
            "4128/4128 [==============================] - 3s 754us/step - loss: 1.8985 - acc: 0.3408\n",
            "Epoch 5/60\n",
            "4128/4128 [==============================] - 3s 744us/step - loss: 1.7550 - acc: 0.4060\n",
            "Epoch 6/60\n",
            "4128/4128 [==============================] - 3s 736us/step - loss: 1.6092 - acc: 0.4767\n",
            "Epoch 7/60\n",
            "4128/4128 [==============================] - 3s 737us/step - loss: 1.4725 - acc: 0.5405\n",
            "Epoch 8/60\n",
            "4128/4128 [==============================] - 3s 737us/step - loss: 1.3826 - acc: 0.5887\n",
            "Epoch 9/60\n",
            "4128/4128 [==============================] - 3s 738us/step - loss: 1.2583 - acc: 0.6490\n",
            "Epoch 10/60\n",
            "4128/4128 [==============================] - 3s 738us/step - loss: 1.1750 - acc: 0.6931\n",
            "Epoch 11/60\n",
            "4128/4128 [==============================] - 3s 741us/step - loss: 1.0847 - acc: 0.7299\n",
            "Epoch 12/60\n",
            "4128/4128 [==============================] - 3s 736us/step - loss: 1.0044 - acc: 0.7745\n",
            "Epoch 13/60\n",
            "4128/4128 [==============================] - 3s 735us/step - loss: 0.9608 - acc: 0.7926\n",
            "Epoch 14/60\n",
            "4128/4128 [==============================] - 3s 745us/step - loss: 0.9380 - acc: 0.8113\n",
            "Epoch 15/60\n",
            "4128/4128 [==============================] - 3s 744us/step - loss: 0.9454 - acc: 0.8132\n",
            "Epoch 16/60\n",
            "4128/4128 [==============================] - 3s 745us/step - loss: 0.8781 - acc: 0.8532\n",
            "Epoch 17/60\n",
            "4128/4128 [==============================] - 3s 745us/step - loss: 0.8484 - acc: 0.8641\n",
            "Epoch 18/60\n",
            "4128/4128 [==============================] - 3s 738us/step - loss: 0.8449 - acc: 0.8641\n",
            "Epoch 19/60\n",
            "4128/4128 [==============================] - 3s 741us/step - loss: 0.8691 - acc: 0.8706\n",
            "Epoch 20/60\n",
            "4128/4128 [==============================] - 3s 740us/step - loss: 0.8509 - acc: 0.8796\n",
            "Epoch 21/60\n",
            "4128/4128 [==============================] - 3s 745us/step - loss: 0.8708 - acc: 0.8762\n",
            "Epoch 22/60\n",
            "4128/4128 [==============================] - 3s 728us/step - loss: 0.8698 - acc: 0.8779\n",
            "Epoch 23/60\n",
            "4128/4128 [==============================] - 3s 730us/step - loss: 0.8591 - acc: 0.8934\n",
            "Epoch 24/60\n",
            "4128/4128 [==============================] - 3s 734us/step - loss: 0.8482 - acc: 0.8992\n",
            "Epoch 25/60\n",
            "4128/4128 [==============================] - 3s 731us/step - loss: 0.8436 - acc: 0.9016\n",
            "Epoch 26/60\n",
            "4128/4128 [==============================] - 3s 735us/step - loss: 0.8516 - acc: 0.8973\n",
            "Epoch 27/60\n",
            "4128/4128 [==============================] - 3s 732us/step - loss: 0.8560 - acc: 0.9036\n",
            "Epoch 28/60\n",
            "4128/4128 [==============================] - 3s 736us/step - loss: 0.8714 - acc: 0.8983\n",
            "Epoch 29/60\n",
            "4128/4128 [==============================] - 3s 735us/step - loss: 0.8847 - acc: 0.9050\n",
            "Epoch 30/60\n",
            "4128/4128 [==============================] - 3s 736us/step - loss: 0.8632 - acc: 0.9140\n",
            "Epoch 31/60\n",
            "4128/4128 [==============================] - 3s 740us/step - loss: 0.8575 - acc: 0.9140\n",
            "Epoch 32/60\n",
            "4128/4128 [==============================] - 3s 740us/step - loss: 0.8416 - acc: 0.9179\n",
            "Epoch 33/60\n",
            "4128/4128 [==============================] - 3s 737us/step - loss: 0.8475 - acc: 0.9184\n",
            "Epoch 34/60\n",
            "4128/4128 [==============================] - 3s 747us/step - loss: 0.8908 - acc: 0.9104\n",
            "Epoch 35/60\n",
            "4128/4128 [==============================] - 3s 746us/step - loss: 0.9010 - acc: 0.9116\n",
            "Epoch 36/60\n",
            "4128/4128 [==============================] - 3s 745us/step - loss: 0.9026 - acc: 0.9106\n",
            "Epoch 37/60\n",
            "4128/4128 [==============================] - 3s 750us/step - loss: 0.8944 - acc: 0.9198\n",
            "Epoch 38/60\n",
            "4128/4128 [==============================] - 3s 752us/step - loss: 0.8863 - acc: 0.9215\n",
            "Epoch 39/60\n",
            "4128/4128 [==============================] - 3s 752us/step - loss: 0.9169 - acc: 0.9138\n",
            "Epoch 40/60\n",
            "4128/4128 [==============================] - 3s 751us/step - loss: 0.8923 - acc: 0.9232\n",
            "Epoch 41/60\n",
            "4128/4128 [==============================] - 3s 764us/step - loss: 0.9028 - acc: 0.9266\n",
            "Epoch 42/60\n",
            "4128/4128 [==============================] - 3s 762us/step - loss: 0.8870 - acc: 0.9370\n",
            "Epoch 43/60\n",
            "4128/4128 [==============================] - 3s 765us/step - loss: 0.9098 - acc: 0.9249\n",
            "Epoch 44/60\n",
            "4128/4128 [==============================] - 3s 760us/step - loss: 0.9274 - acc: 0.9218\n",
            "Epoch 45/60\n",
            "4128/4128 [==============================] - 3s 754us/step - loss: 0.9069 - acc: 0.9268\n",
            "Epoch 46/60\n",
            "4128/4128 [==============================] - 3s 755us/step - loss: 0.9086 - acc: 0.9293\n",
            "Epoch 47/60\n",
            "4128/4128 [==============================] - 3s 750us/step - loss: 0.9064 - acc: 0.9324\n",
            "Epoch 48/60\n",
            "4128/4128 [==============================] - 3s 750us/step - loss: 0.9260 - acc: 0.9225\n",
            "Epoch 49/60\n",
            "4128/4128 [==============================] - 3s 753us/step - loss: 0.9547 - acc: 0.9133\n",
            "Epoch 50/60\n",
            "4128/4128 [==============================] - 3s 754us/step - loss: 0.9450 - acc: 0.9230\n",
            "Epoch 51/60\n",
            "4128/4128 [==============================] - 3s 756us/step - loss: 0.9275 - acc: 0.9344\n",
            "Epoch 52/60\n",
            "4128/4128 [==============================] - 3s 753us/step - loss: 0.9469 - acc: 0.9237\n",
            "Epoch 53/60\n",
            "4128/4128 [==============================] - 3s 754us/step - loss: 0.9919 - acc: 0.9169\n",
            "Epoch 54/60\n",
            "4128/4128 [==============================] - 3s 761us/step - loss: 0.9845 - acc: 0.9159\n",
            "Epoch 55/60\n",
            "4128/4128 [==============================] - 3s 757us/step - loss: 0.9523 - acc: 0.9339\n",
            "Epoch 56/60\n",
            "4128/4128 [==============================] - 3s 754us/step - loss: 0.9555 - acc: 0.9329\n",
            "Epoch 57/60\n",
            "4128/4128 [==============================] - 3s 753us/step - loss: 0.9413 - acc: 0.9356\n",
            "Epoch 58/60\n",
            "4128/4128 [==============================] - 3s 759us/step - loss: 0.9472 - acc: 0.9317\n",
            "Epoch 59/60\n",
            "4128/4128 [==============================] - 3s 755us/step - loss: 0.9240 - acc: 0.9358\n",
            "Epoch 60/60\n",
            "4128/4128 [==============================] - 3s 753us/step - loss: 0.9296 - acc: 0.9307\n"
          ],
          "name": "stdout"
        }
      ]
    },
    {
      "cell_type": "code",
      "metadata": {
        "id": "ZGYv9OEGp1io",
        "colab_type": "code",
        "outputId": "889513fa-c865-48cf-f16b-aebd043e2be2",
        "colab": {
          "base_uri": "https://localhost:8080/",
          "height": 68
        }
      },
      "source": [
        "score, acc = model.evaluate(X_test, Y_test)\n",
        "print('Test score:', score)\n",
        "print('Test accuracy:', acc)"
      ],
      "execution_count": 0,
      "outputs": [
        {
          "output_type": "stream",
          "text": [
            "1032/1032 [==============================] - 0s 434us/step\n",
            "Test score: 1.2137032354524893\n",
            "Test accuracy: 0.8624031007751938\n"
          ],
          "name": "stdout"
        }
      ]
    },
    {
      "cell_type": "code",
      "metadata": {
        "id": "50bLqzTg4av8",
        "colab_type": "code",
        "outputId": "7c0097c3-fbbe-4d1d-d58a-8906be1bb639",
        "colab": {
          "base_uri": "https://localhost:8080/",
          "height": 298
        }
      },
      "source": [
        "plt.plot(history.history['loss'])\n",
        "plt.title('Loss')"
      ],
      "execution_count": 0,
      "outputs": [
        {
          "output_type": "execute_result",
          "data": {
            "text/plain": [
              "Text(0.5, 1.0, 'Loss')"
            ]
          },
          "metadata": {
            "tags": []
          },
          "execution_count": 18
        },
        {
          "output_type": "display_data",
          "data": {
            "image/png": "[encoded data removed]",
            "text/plain": [
              "<Figure size 432x288 with 1 Axes>"
            ]
          },
          "metadata": {
            "tags": []
          }
        }
      ]
    },
    {
      "cell_type": "code",
      "metadata": {
        "id": "V2GHrzBW5FAL",
        "colab_type": "code",
        "outputId": "f08705ae-d7fa-4c05-d89e-b4d49e225cef",
        "colab": {
          "base_uri": "https://localhost:8080/",
          "height": 298
        }
      },
      "source": [
        "plt.plot(history.history['acc'])\n",
        "plt.title('model accuracy')"
      ],
      "execution_count": 0,
      "outputs": [
        {
          "output_type": "execute_result",
          "data": {
            "text/plain": [
              "Text(0.5, 1.0, 'model accuracy')"
            ]
          },
          "metadata": {
            "tags": []
          },
          "execution_count": 19
        },
        {
          "output_type": "display_data",
          "data": {
            "image/png": "[encoded data removed]",
            "text/plain": [
              "<Figure size 432x288 with 1 Axes>"
            ]
          },
          "metadata": {
            "tags": []
          }
        }
      ]
    },
    {
      "cell_type": "markdown",
      "metadata": {
        "id": "VyWYAOVr1A4I",
        "colab_type": "text"
      },
      "source": [
        "# Confusion Matrix"
      ]
    },
    {
      "cell_type": "code",
      "metadata": {
        "id": "DW_B17797BUp",
        "colab_type": "code",
        "outputId": "0e84d263-4bf9-4ac8-8a3d-f6fe89ba932b",
        "colab": {
          "base_uri": "https://localhost:8080/",
          "height": 331
        }
      },
      "source": [
        "from sklearn.metrics import confusion_matrix\n",
        "import matplotlib.pyplot as plt\n",
        "from sklearn.utils.multiclass import unique_labels\n",
        "\n",
        "\n",
        "\n",
        "def plot_confusion_matrix(y_true, y_pred, classes,\n",
        "                          normalize=False,\n",
        "                          title=None,\n",
        "                          cmap=plt.cm.Blues):\n",
        "    if not title:\n",
        "        if normalize:\n",
        "            title = 'Normalized confusion matrix'\n",
        "        else:\n",
        "            title = 'Confusion matrix, without normalization'\n",
        "\n",
        "    # Compute confusion matrix\n",
        "    cm = confusion_matrix(y_true, y_pred)\n",
        "    # Only use the labels that appear in the data\n",
        "    #classes = classes[unique_labels(y_true, y_pred)]\n",
        "    if normalize:\n",
        "        cm = cm.astype('float') / cm.sum(axis=1)[:, np.newaxis]\n",
        "        print(\"Normalized confusion matrix\")\n",
        "    else:\n",
        "        print('Confusion matrix, without normalization')\n",
        "\n",
        "    fig, ax = plt.subplots()\n",
        "    im = ax.imshow(cm, interpolation='nearest', cmap=cmap)\n",
        "    ax.figure.colorbar(im, ax=ax)\n",
        "    # We want to show all ticks...\n",
        "    ax.set(xticks=np.arange(cm.shape[1]),\n",
        "           yticks=np.arange(cm.shape[0]),\n",
        "           # ... and label them with the respective list entries\n",
        "           xticklabels=classes, yticklabels=classes,\n",
        "           title=title,\n",
        "           ylabel='True label',\n",
        "           xlabel='Predicted label')\n",
        "\n",
        "    # Rotate the tick labels and set their alignment.\n",
        "    plt.setp(ax.get_xticklabels(), rotation=45, ha=\"right\",\n",
        "             rotation_mode=\"anchor\")\n",
        "\n",
        "    # Loop over data dimensions and create text annotations.\n",
        "    fmt = '.2f' if normalize else 'd'\n",
        "    thresh = cm.max() / 2.\n",
        "    for i in range(cm.shape[0]):\n",
        "        for j in range(cm.shape[1]):\n",
        "            ax.text(j, i, format(cm[i, j], fmt),\n",
        "                    ha=\"center\", va=\"center\",\n",
        "                    color=\"white\" if cm[i, j] > thresh else \"black\")\n",
        "    fig.tight_layout()\n",
        "    return ax\n",
        "  \n",
        "  \n",
        "# emotion_dict = {\"neutral\":0, \"happy\":1, \"sad\":2, \"disgust\":3, \"anger\":4, \"fear\":5, \"surprise\":6, 'angry':4, 'surprised':6}\n",
        "class_names = [\"neutral\", \"happy\", \"sad\", \"disgust\", \"anger\", \"fear\", \"surprise\"]\n",
        "\n",
        "Y_pred = model.predict(X_test)\n",
        "y_pred = np.argmax(Y_pred, axis=1)\n",
        "y_test = np.argmax(Y_test, axis=1)\n",
        "\n",
        "plot_confusion_matrix(y_test, y_pred, classes=class_names, title='Confusion matrix, without normalization')"
      ],
      "execution_count": 0,
      "outputs": [
        {
          "output_type": "stream",
          "text": [
            "Confusion matrix, without normalization\n"
          ],
          "name": "stdout"
        },
        {
          "output_type": "execute_result",
          "data": {
            "text/plain": [
              "<matplotlib.axes._subplots.AxesSubplot at 0x7fcbc024fa20>"
            ]
          },
          "metadata": {
            "tags": []
          },
          "execution_count": 29
        },
        {
          "output_type": "display_data",
          "data": {
            "image/png": "[encoded data removed]",
            "text/plain": [
              "<Figure size 432x288 with 2 Axes>"
            ]
          },
          "metadata": {
            "tags": []
          }
        }
      ]
    },
    {
      "cell_type": "markdown",
      "metadata": {
        "id": "Fqh4hAM_yTbJ",
        "colab_type": "text"
      },
      "source": [
        "# Testing"
      ]
    },
    {
      "cell_type": "code",
      "metadata": {
        "id": "AwiKRBZ7gbAd",
        "colab_type": "code",
        "outputId": "bf44f945-7b11-4bc5-a374-7f0230218c0d",
        "colab": {
          "base_uri": "https://localhost:8080/",
          "height": 99
        }
      },
      "source": [
        "# emotion_dict = {\"neutral\":0, \"happy\":1, \"sad\":2, \"disgust\":3, \"anger\":4, \"fear\":5, \"surprise\":6, 'angry':4, 'surprised':6}\n",
        "test_image_path = 'drive/My Drive/ML/test/het.jpg'\n",
        "\n",
        "img = cv2.imread(test_image_path)\n",
        "face = get_face(img)\n",
        "face = cv2.cvtColor(face, cv2.COLOR_BGR2GRAY)\n",
        "face = cv2.resize(face, (48, 48))\n",
        "cv2_imshow(face)\n",
        "face = face.reshape(1, 48, 48, 1)\n",
        "\n",
        "prediction = model.predict(face)\n",
        "\n",
        "print(prediction)"
      ],
      "execution_count": 0,
      "outputs": [
        {
          "output_type": "display_data",
          "data": {
            "image/png": "[encoded data removed]",
            "text/plain": [
              "<PIL.Image.Image image mode=L size=48x48 at 0x7F7CF877B940>"
            ]
          },
          "metadata": {
            "tags": []
          }
        },
        {
          "output_type": "stream",
          "text": [
            "[[6.1904922e-02 2.0076118e-04 7.8279200e-08 5.2723829e-03 1.1557656e-01\n",
            "  4.2708151e-04 8.1661826e-01]]\n"
          ],
          "name": "stdout"
        }
      ]
    },
    {
      "cell_type": "markdown",
      "metadata": {
        "id": "HCDSoKo-kCg8",
        "colab_type": "text"
      },
      "source": [
        "# Saving the Trained Model"
      ]
    },
    {
      "cell_type": "code",
      "metadata": {
        "id": "XYzwr6kjkByj",
        "colab_type": "code",
        "colab": {}
      },
      "source": [
        "from keras.models import load_model\n",
        "\n",
        "model.save(dir_path+'emotion_cnn_clf.h5') \n",
        "#clf = load_model('emotion_cnn_clf.h5')"
      ],
      "execution_count": 0,
      "outputs": []
    }
  ]
}